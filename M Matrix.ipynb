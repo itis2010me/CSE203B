{
 "cells": [
  {
   "cell_type": "code",
   "execution_count": 1,
   "id": "e07d238f",
   "metadata": {},
   "outputs": [],
   "source": [
    "import numpy as np\n",
    "\n",
    "counties = [\n",
    "    'Alameda', 'Alpine', 'Amador', 'Butte', 'Calaveras', 'Colusa', 'Contra Costa',\n",
    "    'Del Norte', 'El Dorado', 'Fresno', 'Glenn', 'Humboldt', 'Imperial', 'Inyo',\n",
    "    'Kern', 'Kings', 'Lake', 'Lassen', 'Los Angeles', 'Madera', 'Marin', 'Mariposa',\n",
    "    'Mendocino', 'Merced', 'Modoc', 'Mono', 'Monterey', 'Napa', 'Nevada', 'Orange',\n",
    "    'Placer', 'Plumas', 'Riverside', 'Sacramento', 'San Benito', 'San Bernardino',\n",
    "    'San Diego', 'San Francisco', 'San Joaquin', 'San Luis Obispo', 'San Mateo',\n",
    "    'Santa Barbara', 'Santa Clara', 'Santa Cruz', 'Shasta', 'Sierra', 'Siskiyou',\n",
    "    'Solano', 'Sonoma', 'Stanislaus', 'Sutter', 'Tehama', 'Trinity', 'Tulare',\n",
    "    'Tuolumne', 'Ventura', 'Yolo', 'Yuba'\n",
    "]"
   ]
  },
  {
   "cell_type": "code",
   "execution_count": 2,
   "id": "d5bc170b",
   "metadata": {},
   "outputs": [
    {
     "name": "stdout",
     "output_type": "stream",
     "text": [
      "['Alameda', 'Alpine', 'Amador', 'Butte', 'Calaveras', 'Colusa', 'Contra Costa', 'Del Norte', 'El Dorado', 'Fresno', 'Glenn', 'Humboldt', 'Imperial', 'Inyo', 'Kern', 'Kings', 'Lake', 'Lassen', 'Los Angeles', 'Madera', 'Marin', 'Mariposa', 'Mendocino', 'Merced', 'Modoc', 'Mono', 'Monterey', 'Napa', 'Nevada', 'Orange', 'Placer', 'Plumas', 'Riverside', 'Sacramento', 'San Benito', 'San Bernardino', 'San Diego', 'San Francisco', 'San Joaquin', 'San Luis Obispo', 'San Mateo', 'Santa Barbara', 'Santa Clara', 'Santa Cruz', 'Shasta', 'Sierra', 'Siskiyou', 'Solano', 'Sonoma', 'Stanislaus', 'Sutter', 'Tehama', 'Trinity', 'Tulare', 'Tuolumne', 'Ventura', 'Yolo', 'Yuba']\n"
     ]
    }
   ],
   "source": [
    "print(counties)"
   ]
  },
  {
   "cell_type": "code",
   "execution_count": 3,
   "id": "6c900e13",
   "metadata": {},
   "outputs": [],
   "source": [
    "# \n",
    "\n",
    "impact_list = {\n",
    "    'Alameda': [11335],\n",
    "    'Alpine': [0], #\n",
    "    'Amador': [386100],\n",
    "    'Butte': [86251],\n",
    "    'Calaveras': [347503],\n",
    "    'Colusa': [0], #\n",
    "    'Contra Costa': [21322],\n",
    "    'Del Norte': [0], #\n",
    "    'El Dorado': [397229208],\n",
    "    'Fresno': [192405],\n",
    "    'Glenn': [0], #\n",
    "    'Humboldt': [254222],\n",
    "    'Imperial': [0], #\n",
    "    'Inyo': [103400],\n",
    "    'Kern': [0], #\n",
    "    'Kings': [0], #\n",
    "    'Lake': [1389704],\n",
    "    'Lassen': [445601],\n",
    "    'Los Angeles': [0], #\n",
    "    'Madera': [200650],\n",
    "    'Marin': [0], #\n",
    "    'Mariposa': [18670],\n",
    "    'Mendocino': [739052],\n",
    "    'Merced': [16470],\n",
    "    'Modoc': [50200],\n",
    "    'Mono': [0], #\n",
    "    'Monterey': [112020],\n",
    "    'Napa': [10101],\n",
    "    'Nevada': [720900],\n",
    "    'Orange': [0], #\n",
    "    'Placer': [61636121],\n",
    "    'Plumas': [2003500],\n",
    "    'Riverside': [2598441],\n",
    "    'Sacramento': [3200],\n",
    "    'San Benito': [368564],\n",
    "    'San Bernardino': [2225900],\n",
    "    'San Diego': [1508303],\n",
    "    'San Francisco': [0], #\n",
    "    'San Joaquin': [22099],\n",
    "    'San Luis Obispo': [9606],\n",
    "    'San Mateo': [3000],\n",
    "    'Santa Barbara': [0], #\n",
    "    'Santa Clara': [12750],\n",
    "    'Santa Cruz': [39850],\n",
    "    'Shasta': [31358970],\n",
    "    'Sierra': [0], #\n",
    "    'Siskiyou': [408550],\n",
    "    'Solano': [0], #\n",
    "    'Sonoma': [443400],\n",
    "    'Stanislaus': [114501],\n",
    "    'Sutter': [0], #\n",
    "    'Tehama': [1263355],\n",
    "    'Trinity': [920000],\n",
    "    'Tulare': [98750],\n",
    "    'Tuolumne': [142405],\n",
    "    'Ventura': [0],\n",
    "    'Yolo': [124000],\n",
    "    'Yuba': [2003400]\n",
    "}\n",
    "\n",
    "\n",
    "\n",
    "\n",
    "\n",
    "\n"
   ]
  },
  {
   "cell_type": "code",
   "execution_count": 4,
   "id": "ced0d0d3",
   "metadata": {},
   "outputs": [],
   "source": [
    "def get_average(list):\n",
    "    sum = 0\n",
    "    for i in list:\n",
    "        #print(i)\n",
    "        temp = impact_list[i]\n",
    "        #print(temp)\n",
    "        sum += temp[0]\n",
    "    average = sum/(len(list)-1)\n",
    "    return average\n"
   ]
  },
  {
   "cell_type": "code",
   "execution_count": 5,
   "id": "e873e77a",
   "metadata": {},
   "outputs": [
    {
     "name": "stdout",
     "output_type": "stream",
     "text": [
      "17\n"
     ]
    }
   ],
   "source": [
    "Alpine_adj = ['Alpine','El Dorado', 'Mono', 'Amador', 'Calaveras', 'Tuolumne']\n",
    "Colusa_adj = ['Colusa','Glenn', 'Lake', 'Sutter', 'Yolo']\n",
    "Del_Norte_adj = ['Del Norte','Siskiyou','Humboldt']\n",
    "Glenn_adj = ['Glenn','Butte', 'Colusa', 'Mendocino', 'Tehama', 'Lake']\n",
    "Imperial_adj = ['Imperial','Riverside', 'San Diego']\n",
    "Kern_adj = ['Kern','Kings', 'Los Angeles', 'San Bernardino', 'Santa Barbara', 'Tulare', 'Ventura', 'San Luis Obispo']\n",
    "Kings_adj = ['Kings','Fresno', 'Tulare','San Luis Obispo','Monterey','Kern']\n",
    "Los_Angeles_adj = ['Los Angeles','Kern', 'San Bernardino', 'Santa Barbara', 'Ventura', 'Orange']\n",
    "Marin_adj = ['Marin','Contra Costa', 'Sonoma', 'Solano', 'San Francisco']\n",
    "Mono_adj = ['Mono','Alpine', 'Fresno', 'Inyo', 'Madera', 'Tuolumne']\n",
    "Orange_adj = ['Orange','Riverside', 'San Bernardino', 'San Diego', 'Los Angeles']\n",
    "San_Francisco_adj= ['San Francisco','Alameda', 'Contra Costa', 'Marin', 'San Mateo']\n",
    "Santa_Barbara_adj = ['Santa Barbara','Alameda', 'Merced', 'San Benito', 'San Mateo', 'Santa Cruz', 'Stanislaus']\n",
    "Sierra_list = ['Sierra','Lassen', 'Nevada', 'Plumas', 'Yuba']\n",
    "Solano_list= ['Solano','Contra Costa', 'Marin', 'Napa', 'Sacramento', 'Sonoma', 'Yolo']\n",
    "Sutter_list =['Sutter','Butte', 'Colusa', 'Placer', 'Sacramento', 'Yolo', 'Yuba']\n",
    "Ventura_list = ['Ventura','Kern', 'Los Angeles', 'Santa Barbara']\n",
    "\n",
    "total_adj = [Alpine_adj,Colusa_adj,Del_Norte_adj,Glenn_adj,Imperial_adj,Kern_adj,Kings_adj,Los_Angeles_adj,Marin_adj,Mono_adj,Orange_adj,San_Francisco_adj,Santa_Barbara_adj,Sierra_list,Solano_list,Sutter_list,Ventura_list]\n",
    "print(len(total_adj))"
   ]
  },
  {
   "cell_type": "code",
   "execution_count": 6,
   "id": "4af2ccf8",
   "metadata": {},
   "outputs": [
    {
     "name": "stdout",
     "output_type": "stream",
     "text": [
      "['Alpine', 'El Dorado', 'Mono', 'Amador', 'Calaveras', 'Tuolumne']\n",
      "['Colusa', 'Glenn', 'Lake', 'Sutter', 'Yolo']\n",
      "['Del Norte', 'Siskiyou', 'Humboldt']\n",
      "['Glenn', 'Butte', 'Colusa', 'Mendocino', 'Tehama', 'Lake']\n",
      "['Imperial', 'Riverside', 'San Diego']\n",
      "['Kern', 'Kings', 'Los Angeles', 'San Bernardino', 'Santa Barbara', 'Tulare', 'Ventura', 'San Luis Obispo']\n",
      "['Kings', 'Fresno', 'Tulare', 'San Luis Obispo', 'Monterey', 'Kern']\n",
      "['Los Angeles', 'Kern', 'San Bernardino', 'Santa Barbara', 'Ventura', 'Orange']\n",
      "['Marin', 'Contra Costa', 'Sonoma', 'Solano', 'San Francisco']\n",
      "['Mono', 'Alpine', 'Fresno', 'Inyo', 'Madera', 'Tuolumne']\n",
      "['Orange', 'Riverside', 'San Bernardino', 'San Diego', 'Los Angeles']\n",
      "['San Francisco', 'Alameda', 'Contra Costa', 'Marin', 'San Mateo']\n",
      "['Santa Barbara', 'Alameda', 'Merced', 'San Benito', 'San Mateo', 'Santa Cruz', 'Stanislaus']\n",
      "['Sierra', 'Lassen', 'Nevada', 'Plumas', 'Yuba']\n",
      "['Solano', 'Contra Costa', 'Marin', 'Napa', 'Sacramento', 'Sonoma', 'Yolo']\n",
      "['Sutter', 'Butte', 'Colusa', 'Placer', 'Sacramento', 'Yolo', 'Yuba']\n",
      "['Ventura', 'Kern', 'Los Angeles', 'Santa Barbara']\n"
     ]
    }
   ],
   "source": [
    "for i in total_adj:\n",
    "    print(i)\n",
    "    temp_mean = get_average(i)\n",
    "    temp_mean = int(temp_mean)\n",
    "    #print(temp_mean)\n",
    "    #print(i[0])\n",
    "    impact_list[i[0]] = [temp_mean]\n",
    "    #print(impact_list[i])\n"
   ]
  },
  {
   "cell_type": "code",
   "execution_count": 7,
   "id": "013064bc",
   "metadata": {},
   "outputs": [
    {
     "name": "stdout",
     "output_type": "stream",
     "text": [
      "{'Alameda': [11335], 'Alpine': [79621043], 'Amador': [386100], 'Butte': [86251], 'Calaveras': [347503], 'Colusa': [378426], 'Contra Costa': [21322], 'Del Norte': [331386], 'El Dorado': [397229208], 'Fresno': [192405], 'Glenn': [771357], 'Humboldt': [254222], 'Imperial': [2053372], 'Inyo': [103400], 'Kern': [333465], 'Kings': [149249], 'Lake': [1389704], 'Lassen': [445601], 'Los Angeles': [511873], 'Madera': [200650], 'Marin': [116180], 'Mariposa': [18670], 'Mendocino': [739052], 'Merced': [16470], 'Modoc': [50200], 'Mono': [16051980], 'Monterey': [112020], 'Napa': [10101], 'Nevada': [720900], 'Orange': [1711129], 'Placer': [61636121], 'Plumas': [2003500], 'Riverside': [2598441], 'Sacramento': [3200], 'San Benito': [368564], 'San Bernardino': [2225900], 'San Diego': [1508303], 'San Francisco': [37959], 'San Joaquin': [22099], 'San Luis Obispo': [9606], 'San Mateo': [3000], 'Santa Barbara': [92286], 'Santa Clara': [12750], 'Santa Cruz': [39850], 'Shasta': [31358970], 'Sierra': [1293350], 'Siskiyou': [408550], 'Solano': [119700], 'Sonoma': [443400], 'Stanislaus': [114501], 'Sutter': [10705233], 'Tehama': [1263355], 'Trinity': [920000], 'Tulare': [98750], 'Tuolumne': [142405], 'Ventura': [312541], 'Yolo': [124000], 'Yuba': [2003400]}\n"
     ]
    }
   ],
   "source": [
    "print(impact_list)"
   ]
  },
  {
   "cell_type": "code",
   "execution_count": 8,
   "id": "8b96ea8d",
   "metadata": {},
   "outputs": [],
   "source": [
    "M_values = []\n",
    "for key in impact_list.keys() :\n",
    "    M_values.append(impact_list[key][0])"
   ]
  },
  {
   "cell_type": "code",
   "execution_count": 9,
   "id": "12ce2231",
   "metadata": {},
   "outputs": [
    {
     "name": "stdout",
     "output_type": "stream",
     "text": [
      "[11335, 79621043, 386100, 86251, 347503, 378426, 21322, 331386, 397229208, 192405, 771357, 254222, 2053372, 103400, 333465, 149249, 1389704, 445601, 511873, 200650, 116180, 18670, 739052, 16470, 50200, 16051980, 112020, 10101, 720900, 1711129, 61636121, 2003500, 2598441, 3200, 368564, 2225900, 1508303, 37959, 22099, 9606, 3000, 92286, 12750, 39850, 31358970, 1293350, 408550, 119700, 443400, 114501, 10705233, 1263355, 920000, 98750, 142405, 312541, 124000, 2003400]\n",
      "58\n"
     ]
    }
   ],
   "source": [
    "print(M_values)\n",
    "print(len(M_values))"
   ]
  },
  {
   "cell_type": "code",
   "execution_count": 10,
   "id": "200bcb86",
   "metadata": {},
   "outputs": [],
   "source": [
    "M = np.diag(M_values)"
   ]
  },
  {
   "cell_type": "code",
   "execution_count": 11,
   "id": "f5da00a2",
   "metadata": {},
   "outputs": [
    {
     "name": "stdout",
     "output_type": "stream",
     "text": [
      "[[   11335        0        0 ...        0        0        0]\n",
      " [       0 79621043        0 ...        0        0        0]\n",
      " [       0        0   386100 ...        0        0        0]\n",
      " ...\n",
      " [       0        0        0 ...   312541        0        0]\n",
      " [       0        0        0 ...        0   124000        0]\n",
      " [       0        0        0 ...        0        0  2003400]]\n"
     ]
    }
   ],
   "source": [
    "print(M)"
   ]
  },
  {
   "cell_type": "code",
   "execution_count": 12,
   "id": "efef081a",
   "metadata": {},
   "outputs": [],
   "source": [
    "import csv\n",
    "import pandas as pd"
   ]
  },
  {
   "cell_type": "code",
   "execution_count": 13,
   "id": "c1842c03",
   "metadata": {},
   "outputs": [],
   "source": [
    "\n",
    "header = counties\n",
    "data = M\n",
    "\n",
    "data = pd.DataFrame(data, columns=header)\n",
    "data.to_csv('M_matrix.csv', index=False)"
   ]
  },
  {
   "cell_type": "code",
   "execution_count": null,
   "id": "e846f33e",
   "metadata": {},
   "outputs": [],
   "source": []
  }
 ],
 "metadata": {
  "kernelspec": {
   "display_name": "Python [conda env:root] *",
   "language": "python",
   "name": "conda-root-py"
  },
  "language_info": {
   "codemirror_mode": {
    "name": "ipython",
    "version": 3
   },
   "file_extension": ".py",
   "mimetype": "text/x-python",
   "name": "python",
   "nbconvert_exporter": "python",
   "pygments_lexer": "ipython3",
   "version": "3.9.13"
  }
 },
 "nbformat": 4,
 "nbformat_minor": 5
}
