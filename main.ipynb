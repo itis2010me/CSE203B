{
 "cells": [
  {
   "cell_type": "code",
   "execution_count": 34,
   "metadata": {},
   "outputs": [],
   "source": [
    "import cvxpy as cp\n",
    "import pandas as pd\n",
    "import numpy as np\n",
    "from tabulate import tabulate\n"
   ]
  },
  {
   "cell_type": "code",
   "execution_count": 23,
   "metadata": {},
   "outputs": [],
   "source": [
    "counties = [\n",
    "    'Alameda', 'Alpine', 'Amador', 'Butte', 'Calaveras', 'Colusa', 'Contra Costa',\n",
    "    'Del Norte', 'El Dorado', 'Fresno', 'Glenn', 'Humboldt', 'Imperial', 'Inyo',\n",
    "    'Kern', 'Kings', 'Lake', 'Lassen', 'Los Angeles', 'Madera', 'Marin', 'Mariposa',\n",
    "    'Mendocino', 'Merced', 'Modoc', 'Mono', 'Monterey', 'Napa', 'Nevada', 'Orange',\n",
    "    'Placer', 'Plumas', 'Riverside', 'Sacramento', 'San Benito', 'San Bernardino',\n",
    "    'San Diego', 'San Francisco', 'San Joaquin', 'San Luis Obispo', 'San Mateo',\n",
    "    'Santa Barbara', 'Santa Clara', 'Santa Cruz', 'Shasta', 'Sierra', 'Siskiyou',\n",
    "    'Solano', 'Sonoma', 'Stanislaus', 'Sutter', 'Tehama', 'Trinity', 'Tulare',\n",
    "    'Tuolumne', 'Ventura', 'Yolo', 'Yuba'\n",
    "]"
   ]
  },
  {
   "cell_type": "code",
   "execution_count": 24,
   "metadata": {},
   "outputs": [],
   "source": [
    "# load Matrices as numpy matrices\n",
    "M = pd.read_csv(r'./M_matrix.csv').to_numpy()\n",
    "S = pd.read_csv(r'./S_matrix.csv').to_numpy()\n",
    "D = pd.read_csv(r'./D_matrix.csv').to_numpy()\n",
    "t = 612750000"
   ]
  },
  {
   "cell_type": "code",
   "execution_count": 25,
   "metadata": {},
   "outputs": [
    {
     "data": {
      "text/plain": [
       "array([[1, 1, 1, 1, 1, 1, 1, 1, 1, 1, 1, 1, 1, 1, 1, 1, 1, 1, 1, 1, 1, 1,\n",
       "        1, 1, 1, 1, 1, 1, 1, 1, 1, 1, 1, 1, 1, 1, 1, 1, 1, 1, 1, 1, 1, 1,\n",
       "        1, 1, 1, 1, 1, 1, 1, 1, 1, 1, 1, 1, 1, 1]])"
      ]
     },
     "execution_count": 25,
     "metadata": {},
     "output_type": "execute_result"
    }
   ],
   "source": [
    "ones  = np.full((1,58), 1)\n",
    "ones"
   ]
  },
  {
   "cell_type": "code",
   "execution_count": 26,
   "metadata": {},
   "outputs": [],
   "source": [
    "x = cp.Variable((58, 1))\n",
    "\n",
    "# 58 - i\n",
    "f1_1 = 53\n",
    "f1_2 = 48\n",
    "\n",
    "ones  = np.full((1,58), 1)\n",
    "zeros = np.full((58,1), 0)\n",
    "\n",
    "# counties on fire\n",
    "e     = np.full((58,1), 1)\n",
    "\n",
    "prob1_1 = cp.Problem(cp.Minimize(e.T@M@x + e.T@S@x),\n",
    "                  [(ones @ x) - f1_1 == 0, (ones @ D @ -x) - t <= 0, x <= ones.T, x >= zeros])\n",
    "prob1_2 = cp.Problem(cp.Minimize(e.T@M@x + e.T@S@x),\n",
    "                  [(ones @ x) - f1_2 == 0, (ones @ D @ -x) - t <= 0, x <= ones.T, x >= zeros])"
   ]
  },
  {
   "cell_type": "code",
   "execution_count": 44,
   "metadata": {},
   "outputs": [],
   "source": [
    "def get_saved_counties(val):\n",
    "    saved_counties = [['County', 'X_Value']]\n",
    "    for idx, value in enumerate(val):\n",
    "        if np.abs(value - 1) > 0.2:\n",
    "            row = [counties[idx], value]\n",
    "            saved_counties.append(row)\n",
    "    print(tabulate(saved_counties, headers='firstrow', tablefmt='fancy_grid'))\n",
    "\n",
    "def get_some_not_saved_counties(val, num):\n",
    "    not_saved_counties = [['County', 'X_Value']]\n",
    "    for idx, value in enumerate(val):\n",
    "        if len(not_saved_counties) > num:\n",
    "            break\n",
    "        if np.abs(value - 1) <= 0.2:\n",
    "            row = [counties[idx], value]\n",
    "            not_saved_counties.append(row)\n",
    "    print(tabulate(not_saved_counties, headers='firstrow', tablefmt='fancy_grid'))"
   ]
  },
  {
   "cell_type": "code",
   "execution_count": 45,
   "metadata": {},
   "outputs": [
    {
     "name": "stdout",
     "output_type": "stream",
     "text": [
      "╒═══════════╤══════════════╕\n",
      "│ County    │      X_Value │\n",
      "╞═══════════╪══════════════╡\n",
      "│ Alpine    │  3.86895e-11 │\n",
      "├───────────┼──────────────┤\n",
      "│ El Dorado │ -5.1438e-13  │\n",
      "├───────────┼──────────────┤\n",
      "│ Mono      │  3.03619e-09 │\n",
      "├───────────┼──────────────┤\n",
      "│ Placer    │  1.1924e-10  │\n",
      "├───────────┼──────────────┤\n",
      "│ Shasta    │  3.51607e-10 │\n",
      "╘═══════════╧══════════════╛\n",
      "╒═══════════╤═══════════╕\n",
      "│ County    │   X_Value │\n",
      "╞═══════════╪═══════════╡\n",
      "│ Alameda   │         1 │\n",
      "├───────────┼───────────┤\n",
      "│ Amador    │         1 │\n",
      "├───────────┼───────────┤\n",
      "│ Butte     │         1 │\n",
      "├───────────┼───────────┤\n",
      "│ Calaveras │         1 │\n",
      "├───────────┼───────────┤\n",
      "│ Colusa    │         1 │\n",
      "╘═══════════╧═══════════╛\n"
     ]
    }
   ],
   "source": [
    "prob1_1.solve()\n",
    "get_saved_counties(x.value)\n",
    "get_some_not_saved_counties(x.value, 5)"
   ]
  },
  {
   "cell_type": "code",
   "execution_count": 46,
   "metadata": {},
   "outputs": [
    {
     "name": "stdout",
     "output_type": "stream",
     "text": [
      "╒════════════════╤══════════════╕\n",
      "│ County         │      X_Value │\n",
      "╞════════════════╪══════════════╡\n",
      "│ Alpine         │  3.40228e-12 │\n",
      "├────────────────┼──────────────┤\n",
      "│ El Dorado      │ -4.92271e-13 │\n",
      "├────────────────┼──────────────┤\n",
      "│ Imperial       │  4.39555e-09 │\n",
      "├────────────────┼──────────────┤\n",
      "│ Mono           │  3.50022e-11 │\n",
      "├────────────────┼──────────────┤\n",
      "│ Placer         │  4.74417e-12 │\n",
      "├────────────────┼──────────────┤\n",
      "│ Riverside      │  1.45846e-09 │\n",
      "├────────────────┼──────────────┤\n",
      "│ San Bernardino │  2.11509e-09 │\n",
      "├────────────────┼──────────────┤\n",
      "│ Shasta         │  1.14333e-11 │\n",
      "├────────────────┼──────────────┤\n",
      "│ Sutter         │  3.97663e-11 │\n",
      "├────────────────┼──────────────┤\n",
      "│ Yuba           │  1.48369e-08 │\n",
      "╘════════════════╧══════════════╛\n",
      "╒══════════════╤═══════════╕\n",
      "│ County       │   X_Value │\n",
      "╞══════════════╪═══════════╡\n",
      "│ Alameda      │         1 │\n",
      "├──────────────┼───────────┤\n",
      "│ Amador       │         1 │\n",
      "├──────────────┼───────────┤\n",
      "│ Butte        │         1 │\n",
      "├──────────────┼───────────┤\n",
      "│ Calaveras    │         1 │\n",
      "├──────────────┼───────────┤\n",
      "│ Colusa       │         1 │\n",
      "├──────────────┼───────────┤\n",
      "│ Contra Costa │         1 │\n",
      "├──────────────┼───────────┤\n",
      "│ Del Norte    │         1 │\n",
      "├──────────────┼───────────┤\n",
      "│ Fresno       │         1 │\n",
      "├──────────────┼───────────┤\n",
      "│ Glenn        │         1 │\n",
      "├──────────────┼───────────┤\n",
      "│ Humboldt     │         1 │\n",
      "╘══════════════╧═══════════╛\n"
     ]
    }
   ],
   "source": [
    "prob1_2.solve()\n",
    "get_saved_counties(x.value)\n",
    "get_some_not_saved_counties(x.value, 10)"
   ]
  },
  {
   "cell_type": "code",
   "execution_count": 37,
   "metadata": {},
   "outputs": [
    {
     "name": "stdout",
     "output_type": "stream",
     "text": [
      "╒════════════════╤═════════════╕\n",
      "│ County         │     X_Value │\n",
      "╞════════════════╪═════════════╡\n",
      "│ Alpine         │ 6.95462e-13 │\n",
      "├────────────────┼─────────────┤\n",
      "│ El Dorado      │ 4.78027e-13 │\n",
      "├────────────────┼─────────────┤\n",
      "│ Imperial       │ 8.39806e-11 │\n",
      "├────────────────┼─────────────┤\n",
      "│ Lake           │ 6.1747e-10  │\n",
      "├────────────────┼─────────────┤\n",
      "│ Mono           │ 3.4731e-12  │\n",
      "├────────────────┼─────────────┤\n",
      "│ Orange         │ 1.44704e-10 │\n",
      "├────────────────┼─────────────┤\n",
      "│ Placer         │ 9.00932e-13 │\n",
      "├────────────────┼─────────────┤\n",
      "│ Plumas         │ 9.43478e-11 │\n",
      "├────────────────┼─────────────┤\n",
      "│ Riverside      │ 4.65167e-11 │\n",
      "├────────────────┼─────────────┤\n",
      "│ San Bernardino │ 6.5032e-11  │\n",
      "├────────────────┼─────────────┤\n",
      "│ San Diego      │ 2.90786e-10 │\n",
      "├────────────────┼─────────────┤\n",
      "│ Shasta         │ 1.95868e-12 │\n",
      "├────────────────┼─────────────┤\n",
      "│ Sierra         │ 2.69771e-08 │\n",
      "├────────────────┼─────────────┤\n",
      "│ Sutter         │ 6.32936e-12 │\n",
      "├────────────────┼─────────────┤\n",
      "│ Yuba           │ 8.37458e-11 │\n",
      "╘════════════════╧═════════════╛\n"
     ]
    }
   ],
   "source": [
    "prob1_3.solve()\n",
    "get_saved_counties(x.value)"
   ]
  },
  {
   "cell_type": "code",
   "execution_count": 31,
   "metadata": {},
   "outputs": [],
   "source": [
    "# e2\n",
    "# 2021 wildfire counties\n",
    "\n",
    "fire_counties = [\"Kern\", \"San Diego\", \"Los Angeles\", \"Monterey\", \"San Bernardino\", \"Tulare\", \"Alpine\", \"Siskiyou\", \"Shasta\", \"Lassen\", \"Plumas\", \"Mono\", \"Modoc\", \"Butte\", \"Tehama\", \"Trinity\", \"Nevada\", \"Placer\", \"El Dorado\", \"Amador\", \"Riverside\", \"Humboldt\", \"Santa Barbara\"]\n",
    "\n",
    "def get_county_fire_matrix(fire_counties):\n",
    "    e = np.full((58,1), 1)\n",
    "    for i in range(58):\n",
    "        if counties[i] not in fire_counties:\n",
    "            e[i][0] = 0\n",
    "    return e\n",
    "    \n",
    "f2_1 = 53 # 58 - 5\n",
    "f2_2 = 48\n",
    "e2 = get_county_fire_matrix(fire_counties)\n",
    "\n",
    "\n",
    "prob2 = cp.Problem(cp.Minimize(e2.T@M@x + e2.T@S@x),\n",
    "                  [(ones @ x) - f2_1 == 0, (ones @ D @ -x) - t <= 0, x <= ones.T, x >= zeros])"
   ]
  },
  {
   "cell_type": "code",
   "execution_count": 32,
   "metadata": {},
   "outputs": [
    {
     "data": {
      "text/plain": [
       "4925181.299195746"
      ]
     },
     "execution_count": 32,
     "metadata": {},
     "output_type": "execute_result"
    }
   ],
   "source": [
    "prob2.solve()"
   ]
  },
  {
   "cell_type": "code",
   "execution_count": 33,
   "metadata": {},
   "outputs": [
    {
     "name": "stdout",
     "output_type": "stream",
     "text": [
      "Alpine\n",
      "El Dorado\n",
      "Mono\n",
      "Placer\n",
      "Plumas\n",
      "Riverside\n",
      "San Bernardino\n",
      "San Diego\n",
      "Shasta\n",
      "Tehama\n"
     ]
    }
   ],
   "source": [
    "for idx, value in enumerate(x.value):\n",
    "    if np.abs(value - 1) > 0.2:\n",
    "        print(counties[idx])"
   ]
  }
 ],
 "metadata": {
  "kernelspec": {
   "display_name": "Python 3",
   "language": "python",
   "name": "python3"
  },
  "language_info": {
   "codemirror_mode": {
    "name": "ipython",
    "version": 3
   },
   "file_extension": ".py",
   "mimetype": "text/x-python",
   "name": "python",
   "nbconvert_exporter": "python",
   "pygments_lexer": "ipython3",
   "version": "3.10.6"
  },
  "orig_nbformat": 4,
  "vscode": {
   "interpreter": {
    "hash": "aee8b7b246df8f9039afb4144a1f6fd8d2ca17a180786b69acc140d282b71a49"
   }
  }
 },
 "nbformat": 4,
 "nbformat_minor": 2
}
