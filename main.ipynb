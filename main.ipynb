{
 "cells": [
  {
   "cell_type": "code",
   "execution_count": 13,
   "metadata": {},
   "outputs": [],
   "source": [
    "import cvxpy as cp\n",
    "import pandas as pd\n",
    "import numpy as np\n"
   ]
  },
  {
   "cell_type": "code",
   "execution_count": 15,
   "metadata": {},
   "outputs": [],
   "source": [
    "# load Matrices as numpy matrices\n",
    "M = pd.read_csv(r'./M_matrix.csv').to_numpy()\n",
    "S = pd.read_csv(r'./S_matrix.csv').to_numpy()\n",
    "D = pd.read_csv(r'./D_matrix.csv').to_numpy()\n",
    "t = 612750000"
   ]
  },
  {
   "cell_type": "code",
   "execution_count": 22,
   "metadata": {},
   "outputs": [
    {
     "data": {
      "text/plain": [
       "array([[1, 1, 1, 1, 1, 1, 1, 1, 1, 1, 1, 1, 1, 1, 1, 1, 1, 1, 1, 1, 1, 1,\n",
       "        1, 1, 1, 1, 1, 1, 1, 1, 1, 1, 1, 1, 1, 1, 1, 1, 1, 1, 1, 1, 1, 1,\n",
       "        1, 1, 1, 1, 1, 1, 1, 1, 1, 1, 1, 1, 1, 1]])"
      ]
     },
     "execution_count": 22,
     "metadata": {},
     "output_type": "execute_result"
    }
   ],
   "source": [
    "ones  = np.full((1,58), 1)\n",
    "ones"
   ]
  },
  {
   "cell_type": "code",
   "execution_count": 28,
   "metadata": {},
   "outputs": [],
   "source": [
    "x = cp.Variable((58, 1))\n",
    "\n",
    "# 58 - i\n",
    "f = 48\n",
    "\n",
    "ones  = np.full((1,58), 1)\n",
    "zeros = np.full((58,1), 0)\n",
    "\n",
    "# counties on fire\n",
    "e     = np.full((58,1), 1)\n",
    "\n",
    "prob = cp.Problem(cp.Minimize(e.T@M@x + e.T@S@x),\n",
    "                  [(ones @ x) - f == 0, (ones @ D @ -x) - t <= 0, x <= ones.T, x >= zeros])"
   ]
  },
  {
   "cell_type": "code",
   "execution_count": 29,
   "metadata": {},
   "outputs": [
    {
     "data": {
      "text/plain": [
       "19841347.58431969"
      ]
     },
     "execution_count": 29,
     "metadata": {},
     "output_type": "execute_result"
    }
   ],
   "source": [
    "\"\"\"solve problem \"\"\"\n",
    "prob.solve()"
   ]
  },
  {
   "cell_type": "code",
   "execution_count": 36,
   "metadata": {},
   "outputs": [
    {
     "name": "stdout",
     "output_type": "stream",
     "text": [
      "Alpine\n",
      "El Dorado\n",
      "Imperial\n",
      "Mono\n",
      "Placer\n",
      "Riverside\n",
      "San Bernardino\n",
      "Shasta\n",
      "Sutter\n",
      "Yuba\n"
     ]
    }
   ],
   "source": [
    "counties = [\n",
    "    'Alameda', 'Alpine', 'Amador', 'Butte', 'Calaveras', 'Colusa', 'Contra Costa',\n",
    "    'Del Norte', 'El Dorado', 'Fresno', 'Glenn', 'Humboldt', 'Imperial', 'Inyo',\n",
    "    'Kern', 'Kings', 'Lake', 'Lassen', 'Los Angeles', 'Madera', 'Marin', 'Mariposa',\n",
    "    'Mendocino', 'Merced', 'Modoc', 'Mono', 'Monterey', 'Napa', 'Nevada', 'Orange',\n",
    "    'Placer', 'Plumas', 'Riverside', 'Sacramento', 'San Benito', 'San Bernardino',\n",
    "    'San Diego', 'San Francisco', 'San Joaquin', 'San Luis Obispo', 'San Mateo',\n",
    "    'Santa Barbara', 'Santa Clara', 'Santa Cruz', 'Shasta', 'Sierra', 'Siskiyou',\n",
    "    'Solano', 'Sonoma', 'Stanislaus', 'Sutter', 'Tehama', 'Trinity', 'Tulare',\n",
    "    'Tuolumne', 'Ventura', 'Yolo', 'Yuba'\n",
    "]\n",
    "\n",
    "for idx, value in enumerate(x.value):\n",
    "    if np.abs(value - 1) > 0.2:\n",
    "        print(counties[idx])"
   ]
  },
  {
   "cell_type": "code",
   "execution_count": 42,
   "metadata": {},
   "outputs": [
    {
     "data": {
      "text/plain": [
       "1"
      ]
     },
     "execution_count": 42,
     "metadata": {},
     "output_type": "execute_result"
    }
   ],
   "source": [
    "e     = np.full((58,1), 1)\n",
    "e[0][0]"
   ]
  },
  {
   "cell_type": "code",
   "execution_count": 49,
   "metadata": {},
   "outputs": [],
   "source": [
    "# e2\n",
    "# 2021 wildfire counties\n",
    "\n",
    "fire_counties = [\"Kern\", \"San Diego\", \"Los Angeles\", \"Monterey\", \"San Bernardino\", \"Tulare\", \"Alpine\", \"Siskiyou\", \"Shasta\", \"Lassen\", \"Plumas\", \"Mono\", \"Modoc\", \"Butte\", \"Tehama\", \"Trinity\", \"Nevada\", \"Placer\", \"El Dorado\", \"Amador\", \"Riverside\", \"Humboldt\", \"Santa Barbara\"]\n",
    "\n",
    "def get_county_fire_matrix(fire_counties):\n",
    "    e = np.full((58,1), 1)\n",
    "    for i in range(58):\n",
    "        if counties[i] not in fire_counties:\n",
    "            e[i][0] = 0\n",
    "    return e\n",
    "    \n",
    "f = 48 # 58 - 5\n",
    "e2 = get_county_fire_matrix(fire_counties)\n",
    "\n",
    "\n",
    "prob2 = cp.Problem(cp.Minimize(e2.T@M@x + e2.T@S@x),\n",
    "                  [(ones @ x) - f == 0, (ones @ D @ -x) - t <= 0, x <= ones.T, x >= zeros])"
   ]
  },
  {
   "cell_type": "code",
   "execution_count": 50,
   "metadata": {},
   "outputs": [
    {
     "data": {
      "text/plain": [
       "4925181.299195746"
      ]
     },
     "execution_count": 50,
     "metadata": {},
     "output_type": "execute_result"
    }
   ],
   "source": [
    "prob2.solve()"
   ]
  },
  {
   "cell_type": "code",
   "execution_count": 51,
   "metadata": {},
   "outputs": [
    {
     "name": "stdout",
     "output_type": "stream",
     "text": [
      "Alpine\n",
      "El Dorado\n",
      "Mono\n",
      "Placer\n",
      "Plumas\n",
      "Riverside\n",
      "San Bernardino\n",
      "San Diego\n",
      "Shasta\n",
      "Tehama\n"
     ]
    }
   ],
   "source": [
    "for idx, value in enumerate(x.value):\n",
    "    if np.abs(value - 1) > 0.2:\n",
    "        print(counties[idx])"
   ]
  }
 ],
 "metadata": {
  "kernelspec": {
   "display_name": "Python 3",
   "language": "python",
   "name": "python3"
  },
  "language_info": {
   "codemirror_mode": {
    "name": "ipython",
    "version": 3
   },
   "file_extension": ".py",
   "mimetype": "text/x-python",
   "name": "python",
   "nbconvert_exporter": "python",
   "pygments_lexer": "ipython3",
   "version": "3.10.6"
  },
  "orig_nbformat": 4,
  "vscode": {
   "interpreter": {
    "hash": "aee8b7b246df8f9039afb4144a1f6fd8d2ca17a180786b69acc140d282b71a49"
   }
  }
 },
 "nbformat": 4,
 "nbformat_minor": 2
}
