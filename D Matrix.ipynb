{
 "cells": [
  {
   "cell_type": "code",
   "execution_count": 24,
   "metadata": {},
   "outputs": [],
   "source": [
    "import numpy as np\n",
    "import csv\n",
    "import pandas as pd"
   ]
  },
  {
   "cell_type": "code",
   "execution_count": 23,
   "metadata": {},
   "outputs": [],
   "source": [
    "counties = [\n",
    "    'Alameda', 'Alpine', 'Amador', 'Butte', 'Calaveras', 'Colusa', 'Contra Costa',\n",
    "    'Del Norte', 'El Dorado', 'Fresno', 'Glenn', 'Humboldt', 'Imperial', 'Inyo',\n",
    "    'Kern', 'Kings', 'Lake', 'Lassen', 'Los Angeles', 'Madera', 'Marin', 'Mariposa',\n",
    "    'Mendocino', 'Merced', 'Modoc', 'Mono', 'Monterey', 'Napa', 'Nevada', 'Orange',\n",
    "    'Placer', 'Plumas', 'Riverside', 'Sacramento', 'San Benito', 'San Bernardino',\n",
    "    'San Diego', 'San Francisco', 'San Joaquin', 'San Luis Obispo', 'San Mateo',\n",
    "    'Santa Barbara', 'Santa Clara', 'Santa Cruz', 'Shasta', 'Sierra', 'Siskiyou',\n",
    "    'Solano', 'Sonoma', 'Stanislaus', 'Sutter', 'Tehama', 'Trinity', 'Tulare',\n",
    "    'Tuolumne', 'Ventura', 'Yolo', 'Yuba'\n",
    "]"
   ]
  },
  {
   "cell_type": "code",
   "execution_count": 17,
   "metadata": {},
   "outputs": [],
   "source": [
    "# Create a dictionary of counties' area\n",
    "county_areas = {\n",
    "    'Alameda': [252000],\n",
    "    'Alpine': [302140.0],\n",
    "    'Amador': [279700],\n",
    "    'Butte': [500800],\n",
    "    'Calaveras': [524400],\n",
    "    'Colusa': [241500],\n",
    "    'Contra Costa': [192200],\n",
    "    'Del Norte': [172500],\n",
    "    'El Dorado': [404900],\n",
    "    'Fresno': [774800],\n",
    "    'Glenn': [290100],\n",
    "    'Humboldt': [1542800],\n",
    "    'Imperial': [1800],\n",
    "    'Inyo': [322300],\n",
    "    'Kern': [345225.0],\n",
    "    'Kings': [149000],\n",
    "    'Lake': [355600],\n",
    "    'Lassen': [592200],\n",
    "    'Los Angeles': [163906.25],\n",
    "    'Madera': [368100],\n",
    "    'Marin': [268275.0],\n",
    "    'Mariposa': [426900],\n",
    "    'Mendocino': [1838600],\n",
    "    'Merced': [393900],\n",
    "    'Modoc': [371500],\n",
    "    'Mono': [2500],\n",
    "    'Monterey': [1250600],\n",
    "    'Napa': [360400],\n",
    "    'Nevada': [298300],\n",
    "    'Orange': [529051.5625],\n",
    "    'Placer': [272600],\n",
    "    'Plumas': [96600],\n",
    "    'Riverside': [554600],\n",
    "    'Sacramento': [113500],\n",
    "    'San Benito': [729000],\n",
    "    'San Bernardino': [310400],\n",
    "    'San Diego': [1087300],\n",
    "    'San Francisco': [222218.75],\n",
    "    'San Joaquin': [145200],\n",
    "    'San Luis Obispo': [1406300],\n",
    "    'San Mateo': [176400],\n",
    "    'Santa Barbara': [583841.6666666666],\n",
    "    'Santa Clara': [557700],\n",
    "    'Santa Cruz': [228600],\n",
    "    'Shasta': [1145000],\n",
    "    'Sierra': [291700.0],\n",
    "    'Siskiyou': [1032500],\n",
    "    'Solano': [86900],\n",
    "    'Sonoma': [794000],\n",
    "    'Stanislaus': [425500],\n",
    "    'Sutter': [247883.33333333334],\n",
    "    'Tehama': [1148900],\n",
    "    'Trinity': [259200],\n",
    "    'Tulare': [573800],\n",
    "    'Tuolumne': [299200],\n",
    "    'Ventura': [364324.3055555555],\n",
    "    'Yolo': [179200],\n",
    "    'Yuba': [179700]\n",
    "}\n",
    "\n",
    "# Alpine\n",
    "# Kern\n",
    "# Los Angeles\n",
    "# Marin\n",
    "# Orange\n",
    "# San Francisco\n",
    "# Santa Barbara\n",
    "# Sierra\n",
    "# Sutter\n",
    "# Ventura\n",
    "\n",
    "# for key in county_areas.keys():\n",
    "#     if county_areas[key][0] == 0:\n",
    "#         adj_areas = []\n",
    "#         for neighbor in adjacency_dict[key]:\n",
    "#             adj_areas.append(county_areas[neighbor][0])\n",
    "#         county_areas[key][0] = np.mean(adj_areas)\n",
    "\n",
    "emergency_fire_suppression_budget = [300, 900, 838, 413]\n",
    "cost_per_acre = 100\n",
    "total_budget = np.mean(emergency_fire_suppression_budget)\n",
    "county_cost = {county: [county_areas[county][0] * cost_per_acre] for county in county_areas.keys()}\n"
   ]
  },
  {
   "cell_type": "code",
   "execution_count": 26,
   "metadata": {},
   "outputs": [
    {
     "data": {
      "text/plain": [
       "612.75"
      ]
     },
     "execution_count": 26,
     "metadata": {},
     "output_type": "execute_result"
    }
   ],
   "source": [
    "total_budget"
   ]
  },
  {
   "cell_type": "code",
   "execution_count": 18,
   "metadata": {},
   "outputs": [
    {
     "name": "stdout",
     "output_type": "stream",
     "text": [
      "{'Alameda': [25200000], 'Alpine': [30214000.0], 'Amador': [27970000], 'Butte': [50080000], 'Calaveras': [52440000], 'Colusa': [24150000], 'Contra Costa': [19220000], 'Del Norte': [17250000], 'El Dorado': [40490000], 'Fresno': [77480000], 'Glenn': [29010000], 'Humboldt': [154280000], 'Imperial': [180000], 'Inyo': [32230000], 'Kern': [34522500.0], 'Kings': [14900000], 'Lake': [35560000], 'Lassen': [59220000], 'Los Angeles': [16390625.0], 'Madera': [36810000], 'Marin': [26827500.0], 'Mariposa': [42690000], 'Mendocino': [183860000], 'Merced': [39390000], 'Modoc': [37150000], 'Mono': [250000], 'Monterey': [125060000], 'Napa': [36040000], 'Nevada': [29830000], 'Orange': [52905156.25], 'Placer': [27260000], 'Plumas': [9660000], 'Riverside': [55460000], 'Sacramento': [11350000], 'San Benito': [72900000], 'San Bernardino': [31040000], 'San Diego': [108730000], 'San Francisco': [22221875.0], 'San Joaquin': [14520000], 'San Luis Obispo': [140630000], 'San Mateo': [17640000], 'Santa Barbara': [58384166.666666664], 'Santa Clara': [55770000], 'Santa Cruz': [22860000], 'Shasta': [114500000], 'Sierra': [29170000.0], 'Siskiyou': [103250000], 'Solano': [8690000], 'Sonoma': [79400000], 'Stanislaus': [42550000], 'Sutter': [24788333.333333336], 'Tehama': [114890000], 'Trinity': [25920000], 'Tulare': [57380000], 'Tuolumne': [29920000], 'Ventura': [36432430.55555555], 'Yolo': [17920000], 'Yuba': [17970000]}\n"
     ]
    }
   ],
   "source": [
    "print(county_cost)"
   ]
  },
  {
   "cell_type": "code",
   "execution_count": null,
   "metadata": {},
   "outputs": [],
   "source": [
    "D_values = []\n",
    "for key in county_cost.keys():\n",
    "    D_values.append(county_cost[key][0])\n",
    "D = np.diag(D_values)"
   ]
  },
  {
   "cell_type": "code",
   "execution_count": null,
   "metadata": {},
   "outputs": [],
   "source": [
    "header = counties\n",
    "data = D\n",
    "\n",
    "data = pd.DataFrame(data, columns=header)\n",
    "data.to_csv('D_matrix.csv', index=False)"
   ]
  }
 ],
 "metadata": {
  "kernelspec": {
   "display_name": "Python 3",
   "language": "python",
   "name": "python3"
  },
  "language_info": {
   "codemirror_mode": {
    "name": "ipython",
    "version": 3
   },
   "file_extension": ".py",
   "mimetype": "text/x-python",
   "name": "python",
   "nbconvert_exporter": "python",
   "pygments_lexer": "ipython3",
   "version": "3.10.6"
  },
  "orig_nbformat": 4,
  "vscode": {
   "interpreter": {
    "hash": "aee8b7b246df8f9039afb4144a1f6fd8d2ca17a180786b69acc140d282b71a49"
   }
  }
 },
 "nbformat": 4,
 "nbformat_minor": 2
}
